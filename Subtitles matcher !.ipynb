{
 "cells": [
  {
   "cell_type": "code",
   "execution_count": 1,
   "metadata": {
    "collapsed": false
   },
   "outputs": [],
   "source": [
    "import requests\n",
    "import urllib.parse\n",
    "import json\n",
    "import webbrowser"
   ]
  },
  {
   "cell_type": "code",
   "execution_count": 2,
   "metadata": {
    "collapsed": false
   },
   "outputs": [],
   "source": [
    "# Read credentials\n",
    "credentials_path = \"client_secrets.json\"\n",
    "# Credentials obtained from https://console.developers.google.com,\n",
    "# creating an application with Youtube API access and a \"Installed application\" token\n",
    "\n",
    "# You'll probably have to make your own...\n",
    "\n",
    "with open(credentials_path, \"r\") as f:\n",
    "    credentials = json.load(f)"
   ]
  },
  {
   "cell_type": "code",
   "execution_count": 3,
   "metadata": {
    "collapsed": false
   },
   "outputs": [],
   "source": [
    "# Get OAuth2 token\n",
    "oob_redirect = \"urn:ietf:wg:oauth:2.0:oob\"\n",
    "oauth_entrypoint = \"https://accounts.google.com/o/oauth2/auth\"\n",
    "parameters = {\n",
    "    \"client_id\": credentials[\"installed\"][\"client_id\"],\n",
    "    \"redirect_uri\": oob_redirect,\n",
    "    \"response_type\": \"code\",\n",
    "    \"scope\": \"https://www.googleapis.com/auth/youtube.force-ssl\",\n",
    "}\n",
    "__ = webbrowser.open_new_tab(oauth_entrypoint + \"?\" + urllib.parse.urlencode(parameters))"
   ]
  },
  {
   "cell_type": "code",
   "execution_count": 4,
   "metadata": {
    "collapsed": true
   },
   "outputs": [],
   "source": [
    "# Please copy past the token here\n",
    "token = \"{{Please copy past the token here.}}\""
   ]
  },
  {
   "cell_type": "code",
   "execution_count": 5,
   "metadata": {
    "collapsed": false
   },
   "outputs": [],
   "source": [
    "oauth_entrypoint2 = \"https://accounts.google.com/o/oauth2/token\"\n",
    "parameters = {\n",
    "    \"code\": token,\n",
    "    \"client_id\": credentials[\"installed\"][\"client_id\"],\n",
    "    \"client_secret\": credentials[\"installed\"][\"client_secret\"],\n",
    "    \"grant_type\": \"authorization_code\",\n",
    "    \"redirect_uri\": oob_redirect,\n",
    "}\n",
    "response = requests.post(oauth_entrypoint2, data=parameters)"
   ]
  },
  {
   "cell_type": "code",
   "execution_count": 6,
   "metadata": {
    "collapsed": false
   },
   "outputs": [],
   "source": [
    "# Saves you user token to a file son we don't have to do this all over again\n",
    "# (at least until the token exires which is after an hour)\n",
    "\n",
    "user_secrets = response.json()\n",
    "with open(\"user_secrets.json\", \"w\") as f:\n",
    "    json.dump(user_secrets, f, sort_keys=True,\n",
    "        indent=4, separators=(',', ': ')\n",
    "    )"
   ]
  },
  {
   "cell_type": "code",
   "execution_count": 7,
   "metadata": {
    "collapsed": false
   },
   "outputs": [],
   "source": [
    "# If you already have a token, you can start here !\n",
    "import requests\n",
    "import urllib.parse\n",
    "import json\n",
    "import webbrowser\n",
    "with open(\"user_secrets.json\", \"r\") as f:\n",
    "    user_secrets = json.load(f)"
   ]
  },
  {
   "cell_type": "code",
   "execution_count": 8,
   "metadata": {
    "collapsed": true
   },
   "outputs": [],
   "source": [
    "# You need a video that belongs to you, otherwise you\n",
    "# don't have the right to download the subtitles using the API\n",
    "video_id = \"SdV-oKRQXVY\"  # you get that in the URL"
   ]
  },
  {
   "cell_type": "code",
   "execution_count": 9,
   "metadata": {
    "collapsed": false
   },
   "outputs": [],
   "source": [
    "# Preparing the Youtube API calls\n",
    "secret_key = user_secrets[\"access_token\"]\n",
    "caption_list_entrypoint = \"https://www.googleapis.com/youtube/v3/captions?part=snippet&videoId={video_id}\"\n",
    "caption_download_entrypoint = \"https://www.googleapis.com/youtube/v3/captions/{caption_id}?tfmt=srt\""
   ]
  },
  {
   "cell_type": "code",
   "execution_count": 10,
   "metadata": {
    "collapsed": false
   },
   "outputs": [],
   "source": [
    "# A request function for the Youtube API\n",
    "class GoogleAuth(requests.auth.AuthBase):\n",
    "    def __call__(self, request):\n",
    "        request.headers[\"Authorization\"] = \"Bearer {}\".format(secret_key)\n",
    "        return request\n",
    "\n",
    "def request(url, **kwargs):\n",
    "    response = requests.get(\n",
    "        url.format(**{key: urllib.parse.quote(value) for key, value in kwargs.items()}),\n",
    "        auth=GoogleAuth()\n",
    "    )\n",
    "    return response"
   ]
  },
  {
   "cell_type": "code",
   "execution_count": 11,
   "metadata": {
    "collapsed": false
   },
   "outputs": [],
   "source": [
    "# This returns the list of all the subtitles tracks\n",
    "response = request(caption_list_entrypoint, video_id=video_id).json()"
   ]
  },
  {
   "cell_type": "code",
   "execution_count": 12,
   "metadata": {
    "collapsed": false
   },
   "outputs": [],
   "source": [
    "# This finds the (first) automatic subtitle track ID\n",
    "caption_id = next(iter(element[\"id\"] for element in response[\"items\"] if element[\"snippet\"][\"trackKind\"] == \"ASR\"))"
   ]
  },
  {
   "cell_type": "code",
   "execution_count": 13,
   "metadata": {
    "collapsed": false
   },
   "outputs": [],
   "source": [
    "# This returns the content of the subtitles in SRT format\n",
    "response = request(caption_download_entrypoint, caption_id=caption_id)"
   ]
  },
  {
   "cell_type": "code",
   "execution_count": 14,
   "metadata": {
    "collapsed": false
   },
   "outputs": [],
   "source": [
    "# Let's save the srt for later use !\n",
    "\n",
    "# srt = pysrt.from_string(srt_content.decode(\"utf-8\"))\n",
    "with open(\"subtitles.srt\", \"w\") as f:\n",
    "    f.write(response.content.decode(\"utf-8\"))"
   ]
  },
  {
   "cell_type": "code",
   "execution_count": 15,
   "metadata": {
    "collapsed": true
   },
   "outputs": [],
   "source": [
    "# From pip\n",
    "import pysrt"
   ]
  },
  {
   "cell_type": "code",
   "execution_count": 16,
   "metadata": {
    "collapsed": false
   },
   "outputs": [],
   "source": [
    "srt = pysrt.open(\"subtitles.srt\")"
   ]
  },
  {
   "cell_type": "code",
   "execution_count": 47,
   "metadata": {
    "collapsed": false
   },
   "outputs": [],
   "source": [
    "# This is my own transcription of the video\n",
    "real_text = \"\"\"Okay, so I'm trying Google API for now, and I need a video that contains some text.\n",
    "Thank you very much.\"\"\".split()"
   ]
  },
  {
   "cell_type": "code",
   "execution_count": 48,
   "metadata": {
    "collapsed": false
   },
   "outputs": [],
   "source": [
    "# There's probably MUCH improvement to do to this. (using re ?)\n",
    "def tidy_text(text):\n",
    "    text = text.lower()\n",
    "    for punc in \".,;?!\":\n",
    "        text = text.replace(punc, \" \")\n",
    "    return text"
   ]
  },
  {
   "cell_type": "code",
   "execution_count": 50,
   "metadata": {
    "collapsed": true
   },
   "outputs": [],
   "source": [
    "current_word = 0\n",
    "search_words = 30"
   ]
  },
  {
   "cell_type": "code",
   "execution_count": 57,
   "metadata": {
    "collapsed": false
   },
   "outputs": [],
   "source": [
    "# Using the Difflib, we find the most probable shift between\n",
    "# a srt fragment and the official transcript (we move forward in the\n",
    "# text and search evertime at +- 30 words)\n",
    "import difflib\n",
    "\n",
    "start_of_fragments = []\n",
    "for fragment in srt:\n",
    "    srt_text = fragment.text\n",
    "    search_range = range(max(current_word - search_words, 0), min(current_word + search_words, len(real_text)))\n",
    "    possibilities = {\" \".join(searched[i:]): i for i in search_range}\n",
    "    closest = difflib.get_close_matches(srt_text, possibilities.keys(), 1)[0]\n",
    "    # At this point, we could try to save that value, but there's no assurance that\n",
    "    # we'll no be missing a word.\n",
    "    # Better match the start position of a fragment than the fragment themselves\n",
    "    # so that we're sure that they're consecutives.\n",
    "    shift = possibilities[closest]\n",
    "    start_of_fragments.append(shift)\n",
    "    current_word += shift"
   ]
  },
  {
   "cell_type": "code",
   "execution_count": 59,
   "metadata": {
    "collapsed": false
   },
   "outputs": [],
   "source": [
    "def double_iter_then_none(iterable):\n",
    "    \"\"\"\n",
    "    >>> list(double_iter_then_none([1, 2, 3]))\n",
    "    ... [(1, 2), (2, 3), (3, None)]\n",
    "    \"\"\"\n",
    "    it = iter(iterable)\n",
    "    v1 = next(it)\n",
    "    try:\n",
    "        v2 = next(it)\n",
    "    except StopIteration:\n",
    "        yield(v1, None)\n",
    "        return\n",
    "    try:\n",
    "        while True:\n",
    "            yield (v1, v2)\n",
    "            v1, v2 = v2, next(it)\n",
    "    except StopIteration:\n",
    "        yield (v2, None) \n",
    "\n",
    "# We compute the fragments based of the shifted values found    \n",
    "new_fragements = [\" \".join(real_text[start:end]) for start, end in double_iter_then_none(start_of_fragments)]"
   ]
  },
  {
   "cell_type": "code",
   "execution_count": 60,
   "metadata": {
    "collapsed": false
   },
   "outputs": [],
   "source": [
    "for fragment, new_text in zip(srt, new_fragements):\n",
    "    fragment.text = new_text\n",
    "\n",
    "# Save the new SRT file \n",
    "srt.save(\"proper.srt\", encoding=\"utf-8\")"
   ]
  },
  {
   "cell_type": "code",
   "execution_count": null,
   "metadata": {
    "collapsed": true
   },
   "outputs": [],
   "source": [
    "# YAY"
   ]
  }
 ],
 "metadata": {
  "kernelspec": {
   "display_name": "Python 3",
   "language": "python",
   "name": "python3"
  },
  "language_info": {
   "codemirror_mode": {
    "name": "ipython",
    "version": 3
   },
   "file_extension": ".py",
   "mimetype": "text/x-python",
   "name": "python",
   "nbconvert_exporter": "python",
   "pygments_lexer": "ipython3",
   "version": "3.4.2"
  }
 },
 "nbformat": 4,
 "nbformat_minor": 0
}
