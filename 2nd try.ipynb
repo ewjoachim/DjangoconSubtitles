{
 "cells": [
  {
   "cell_type": "markdown",
   "metadata": {},
   "source": [
    "# Try out the Speech Recognition system"
   ]
  },
  {
   "cell_type": "code",
   "execution_count": 1,
   "metadata": {
    "collapsed": true
   },
   "outputs": [],
   "source": [
    "# Third party\n",
    "import speech_recognition as sr"
   ]
  },
  {
   "cell_type": "code",
   "execution_count": 11,
   "metadata": {
    "collapsed": false
   },
   "outputs": [
    {
     "name": "stdout",
     "output_type": "stream",
     "text": [
      "You said I want to say something\n"
     ]
    }
   ],
   "source": [
    "r = sr.Recognizer()\n",
    "with sr.Microphone() as source:                # use the default microphone as the audio source\n",
    "    audio = r.listen(source)                   # listen for the first phrase and extract it into audio data\n",
    "\n",
    "try:\n",
    "    print(\"You said \" + r.recognize(audio))    # recognize speech using Google Speech Recognition\n",
    "except LookupError:                            # speech is unintelligible\n",
    "    print(\"Could not understand audio\")"
   ]
  },
  {
   "cell_type": "markdown",
   "metadata": {},
   "source": [
    "# Download a video frow vimeo in mp4 format"
   ]
  },
  {
   "cell_type": "code",
   "execution_count": 3,
   "metadata": {
    "collapsed": true
   },
   "outputs": [],
   "source": [
    "video_id = \"66555533\""
   ]
  },
  {
   "cell_type": "code",
   "execution_count": 4,
   "metadata": {
    "collapsed": false
   },
   "outputs": [],
   "source": [
    "import re\n",
    "import json\n",
    "import io\n",
    "\n",
    "# Third party\n",
    "import sh\n",
    "import requests"
   ]
  },
  {
   "cell_type": "code",
   "execution_count": 5,
   "metadata": {
    "collapsed": true
   },
   "outputs": [],
   "source": [
    "def get_vimeo_file(video_id):\n",
    "    response = requests.get(\"http://player.vimeo.com/video/{}\".format(video_id))\n",
    "    json_in_js = re.findall(\n",
    "        re.compile('''var t=(.+);if\\(\\!t\\.request\\)'''), response.content.decode(\"utf-8\")\n",
    "    )[0]\n",
    "    video_url = json.loads(json_in_js)[\"request\"][\"files\"][\"h264\"][\"mobile\"][\"url\"]\n",
    "    mp4 = requests.get(video_url)\n",
    "    video_file = io.BytesIO(mp4.content)\n",
    "    video_file.seek(0)\n",
    "    return video_file"
   ]
  },
  {
   "cell_type": "code",
   "execution_count": 6,
   "metadata": {
    "collapsed": false
   },
   "outputs": [],
   "source": [
    "video = get_vimeo_file(video_id)"
   ]
  },
  {
   "cell_type": "markdown",
   "metadata": {},
   "source": [
    "# Cut the video into 10 seconds segments WAV files, and try recognizing them"
   ]
  },
  {
   "cell_type": "code",
   "execution_count": 20,
   "metadata": {
    "collapsed": false
   },
   "outputs": [
    {
     "name": "stdout",
     "output_type": "stream",
     "text": [
      "0\n",
      "my name is Anthony\n",
      "5\n",
      "Dishonored, GameStop been around\n",
      "10\n",
      "what are the ingredients in Tempe AZ\n",
      "15\n",
      "100 e 9th\n",
      "20\n",
      "2009 in 2010 I was going to say\n",
      "25\n",
      "North Hudson community policing same Nissan Titan\n",
      "30\n",
      "the 1992 Chicago Illinois\n",
      "35\n",
      "and that's easy to kill a hundred Yen film site 115\n",
      "40\n",
      "contacts on my Samsung TV\n",
      "45\n",
      "Not recognized\n",
      "50\n",
      "Not recognized\n",
      "55\n",
      "Not recognized\n"
     ]
    }
   ],
   "source": [
    "wave_file = io.BytesIO()\n",
    "video.seek(0)\n",
    "try:\n",
    "    sh.ffmpeg(\"-i\", \"pipe:\", \"-f\", \"wav\", \"-ac\", \"1\", \"-\", _in=video, _out=wave_file)\n",
    "except sh.ErrorReturnCode as e:\n",
    "    print(e.stderr.decode())\n",
    "wave_file.seek(0)\n",
    "r = sr.Recognizer()\n",
    "\n",
    "with sr.WavFile(wave_file) as source:\n",
    "    length = 5\n",
    "    for start in range(0, 60, length):\n",
    "        print(start)\n",
    "        try:\n",
    "            print(r.recognize(r.record(source, duration=5, offset=start)))\n",
    "        except LookupError:\n",
    "            print(\"Not recognized\")"
   ]
  },
  {
   "cell_type": "markdown",
   "metadata": {},
   "source": [
    ":("
   ]
  }
 ],
 "metadata": {
  "kernelspec": {
   "display_name": "Python 3",
   "language": "python",
   "name": "python3"
  },
  "language_info": {
   "codemirror_mode": {
    "name": "ipython",
    "version": 3
   },
   "file_extension": ".py",
   "mimetype": "text/x-python",
   "name": "python",
   "nbconvert_exporter": "python",
   "pygments_lexer": "ipython3",
   "version": "3.4.2"
  }
 },
 "nbformat": 4,
 "nbformat_minor": 0
}
